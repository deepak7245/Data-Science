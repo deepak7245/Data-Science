{
  "nbformat": 4,
  "nbformat_minor": 0,
  "metadata": {
    "colab": {
      "private_outputs": true,
      "provenance": []
    },
    "kernelspec": {
      "name": "python3",
      "display_name": "Python 3"
    },
    "language_info": {
      "name": "python"
    }
  },
  "cells": [
    {
      "cell_type": "code",
      "execution_count": null,
      "metadata": {
        "id": "fiqra5F4xTGc"
      },
      "outputs": [],
      "source": [
        "import pandas as pd\n",
        "import numpy as np\n",
        "import matplotlib.pyplot as plt\n",
        "import seaborn as sns\n",
        "import warnings\n",
        "from sklearn.metrics import accuracy_score\n",
        "warnings.filterwarnings(\"ignore\")\n",
        "from sklearn.model_selection import train_test_split"
      ]
    },
    {
      "cell_type": "code",
      "source": [
        "df=pd.read_csv(\"/content/wine.csv\")\n",
        "df.info()\n",
        "df.shape\n",
        "df.head()"
      ],
      "metadata": {
        "id": "Ubs5lzt6yKlJ"
      },
      "execution_count": null,
      "outputs": []
    },
    {
      "cell_type": "code",
      "source": [
        "df1=df.copy()\n",
        "df2=df.copy()"
      ],
      "metadata": {
        "id": "lApRNkLABg2X"
      },
      "execution_count": null,
      "outputs": []
    },
    {
      "cell_type": "code",
      "source": [
        "#Data Spliting\n",
        "X=df.iloc[:,1:14]"
      ],
      "metadata": {
        "id": "BCCjcNUyyKhu"
      },
      "execution_count": null,
      "outputs": []
    },
    {
      "cell_type": "code",
      "source": [
        "# correlation heatmap\n",
        "f,ax = plt.subplots(figsize=(10,8))\n",
        "sns.heatmap(X.corr(), annot=True, linewidths =.5, fmt ='.1f',ax=ax)\n",
        "plt.show()"
      ],
      "metadata": {
        "id": "GvpAdaRPyKf5"
      },
      "execution_count": null,
      "outputs": []
    },
    {
      "cell_type": "code",
      "source": [
        "import seaborn as sns\n",
        "import matplotlib.pyplot as plt\n",
        "\n",
        "bp = X.copy()\n",
        "fig, axes = plt.subplots(12, 1, figsize=(60, 35), sharex=False, sharey=False)\n",
        "data = [\"Alcohol\", \"Malic\", \"Ash\", \"Alcalinity\", \"Magnesium\", \"Phenols\", \"Flavanoids\", \"Nonflavanoids\", \"Proanthocyanins\", \"Color\", \"Hue\", \"Dilution\", \"Proline\"]\n",
        "\n",
        "for i, ax in zip(data, axes):\n",
        "    sns.boxplot(x=i, data=X, palette='crest', ax=ax)\n",
        "\n",
        "plt.tight_layout(pad=2.0)\n",
        "plt.show()\n"
      ],
      "metadata": {
        "id": "Qhpm_-6qyKcu"
      },
      "execution_count": null,
      "outputs": []
    },
    {
      "cell_type": "code",
      "source": [
        "sns.pairplot(X, height=2.5)\n",
        "plt.show()"
      ],
      "metadata": {
        "id": "vKIFaNom0OSn"
      },
      "execution_count": null,
      "outputs": []
    },
    {
      "cell_type": "code",
      "source": [
        "#Standard Scaler\n",
        "from sklearn.preprocessing import StandardScaler\n",
        "SS=StandardScaler()\n",
        "SS_X=SS.fit_transform(X)\n",
        "SS_X=pd.DataFrame(SS_X)\n",
        "\n",
        "SS_X.columns=list(X)\n",
        "SS_X.head()"
      ],
      "metadata": {
        "id": "J9W8pHhQ2L4H"
      },
      "execution_count": null,
      "outputs": []
    },
    {
      "cell_type": "code",
      "source": [
        "# Principal Component Analysis\n",
        "from sklearn.decomposition import PCA\n",
        "\n",
        "# Assuming SS_X is your standardized data\n",
        "pca = PCA(n_components=3)\n",
        "pc = pca.fit_transform(SS_X)\n",
        "\n",
        "# Explained Variance Ratio\n",
        "explained_var_ratio = (pca.explained_variance_ratio_)*100\n",
        "explained_var_ratio = pd.DataFrame(explained_var_ratio)\n",
        "print(\"Explained Variance Ratio:\", explained_var_ratio)\n",
        "\n",
        "\n",
        "pd.DataFrame(pc).head()\n"
      ],
      "metadata": {
        "id": "5GXd4fIK3CK1"
      },
      "execution_count": null,
      "outputs": []
    },
    {
      "cell_type": "code",
      "source": [
        "# Principal Component Analysis\n",
        "from sklearn.decomposition import PCA\n",
        "\n",
        "# Assuming SS_X is your standardized data\n",
        "pca = PCA()\n",
        "pc = pca.fit_transform(SS_X)\n",
        "\n",
        "# Explained Variance Ratio\n",
        "explained_var_ratio = (pca.explained_variance_ratio_)*100\n",
        "explained_var_ratio = pd.DataFrame(explained_var_ratio,columns=[\"Explained Variance (%)\"])\n",
        "print(\"Explained Variance Ratio:\", explained_var_ratio)\n",
        "\n",
        "\n",
        "pd.DataFrame(pc).head()"
      ],
      "metadata": {
        "id": "ljlYgnN3-bOZ"
      },
      "execution_count": null,
      "outputs": []
    },
    {
      "cell_type": "code",
      "source": [
        "# Plotting the explained variance ratio\n",
        "plt.figure(figsize=(10, 6))\n",
        "sns.scatterplot(x=range(1, len(explained_var_ratio) + 1), y=\"Explained Variance (%)\", data=explained_var_ratio, s=100, color='skyblue', edgecolor='black')\n",
        "plt.title('Explained Variance Ratio for Each Principal Component')\n",
        "plt.xlabel('Principal Component')\n",
        "plt.ylabel('Explained Variance (%)')\n",
        "\n",
        "# Annotate points with the corresponding explained variance\n",
        "for i, txt in enumerate(explained_var_ratio.values):\n",
        "    plt.annotate(f'{txt[0]:.2f}%', (i + 1, txt), ha='center', va='bottom')\n",
        "\n",
        "plt.show()"
      ],
      "metadata": {
        "id": "LhKeku8g9OYp"
      },
      "execution_count": null,
      "outputs": []
    },
    {
      "cell_type": "code",
      "source": [
        "PC_X=pd.DataFrame(pc[:,0:8])\n",
        "PC_X.head()"
      ],
      "metadata": {
        "id": "skGHf8nH9OWU"
      },
      "execution_count": null,
      "outputs": []
    },
    {
      "cell_type": "code",
      "source": [
        "pca_result = pca.fit_transform(PC_X)\n",
        "# Creating a scatter plot to visualize PCA scores colored by cluster labels\n",
        "plt.figure(figsize=(10, 6))\n",
        "scatter = plt.scatter(\n",
        "    pca_result[:, 0], pca_result[:, 1], c=cluster_labels, cmap='viridis', alpha=0.6\n",
        ")\n",
        "plt.xlabel('PCA Component 1')\n",
        "plt.ylabel('PCA Component 2')\n",
        "plt.title('PCA Scores Colored by Agglomerative Clustering Labels')\n",
        "plt.colorbar(scatter)\n",
        "plt.show()"
      ],
      "metadata": {
        "id": "BDeck_c1s0VM"
      },
      "execution_count": null,
      "outputs": []
    },
    {
      "cell_type": "code",
      "source": [
        "from sklearn.linear_model import LogisticRegression\n",
        "logreg = LogisticRegression()"
      ],
      "metadata": {
        "id": "asLU3lcAxzQX"
      },
      "execution_count": null,
      "outputs": []
    },
    {
      "cell_type": "code",
      "source": [
        "Y = df[\"Type\"]"
      ],
      "metadata": {
        "id": "WfnsBVVoxavb"
      },
      "execution_count": null,
      "outputs": []
    },
    {
      "cell_type": "code",
      "source": [
        "# validation set method --> validaton hold-off method\n",
        "\"\"\" but the input PC_X \"\"\"\n",
        "\n",
        "training_accuracy = []\n",
        "test_accuracy = []\n",
        "\n",
        "for i in range(1,10,1):\n",
        "    X_train,X_test,Y_train,Y_test  = train_test_split(PC_X,Y, test_size=0.30, random_state=i)\n",
        "    logreg.fit(X_train,Y_train) # Bo + b1x1 + B2x2\n",
        "    Y_pred_train = logreg.predict(X_train)\n",
        "    Y_pred_test = logreg.predict(X_test)\n",
        "    training_accuracy.append(accuracy_score(Y_train,Y_pred_train).round(3))\n",
        "    test_accuracy.append(accuracy_score(Y_test,Y_pred_test).round(3))"
      ],
      "metadata": {
        "id": "bURXhqytxEhJ"
      },
      "execution_count": null,
      "outputs": []
    },
    {
      "cell_type": "code",
      "source": [
        "print(\"Average trianing accuray\",np.mean(training_accuracy).round(2))\n",
        "print(\"Average test accuray\",np.mean(test_accuracy).round(2))"
      ],
      "metadata": {
        "id": "4szUrNtQqx-3"
      },
      "execution_count": null,
      "outputs": []
    },
    {
      "cell_type": "code",
      "source": [
        "#Agglomeritive Clustering\n",
        "\n",
        "import scipy.cluster.hierarchy as shc\n",
        "\n",
        "for methods in ['single','complete','average','ward']:\n",
        "   plt.figure(figsize =(20, 6))\n",
        "   plt.title('Visualising the data, Method- {}'.format(methods))\n",
        "   Dendrogram1 = shc.dendrogram(shc.linkage(PC_X, method = methods,optimal_ordering=False))"
      ],
      "metadata": {
        "id": "r6tkbzKs9OT_"
      },
      "execution_count": null,
      "outputs": []
    },
    {
      "cell_type": "code",
      "source": [
        "from sklearn.cluster import AgglomerativeClustering\n",
        "cluster = AgglomerativeClustering(n_clusters=3, affinity='euclidean', linkage='ward')\n",
        "Y = cluster.fit_predict(PC_X)\n",
        "\n",
        "Y = pd.DataFrame(Y)\n",
        "print(\"No.Of Cluster\\n\",Y.value_counts())\n",
        "df1['Agglomerative_clusters'] = Y\n",
        "df1.head()"
      ],
      "metadata": {
        "id": "DlRD3WDq_BGv"
      },
      "execution_count": null,
      "outputs": []
    },
    {
      "cell_type": "code",
      "source": [
        "from sklearn.cluster import AgglomerativeClustering\n",
        "import pandas as pd\n",
        "\n",
        "# Initialize AgglomerativeClustering with different linkage options\n",
        "linkage_options = ['ward', 'complete', 'average', 'single']\n",
        "for linkage in linkage_options:\n",
        "    cluster = AgglomerativeClustering(n_clusters=3, affinity='euclidean', linkage=linkage)\n",
        "    Y = cluster.fit_predict(PC_X)\n",
        "    Y = pd.DataFrame(Y)\n",
        "    print(f\"Linkage: {linkage}\")\n",
        "    print(\"No. of Samples in Each Cluster\\n\", Y.value_counts())\n",
        "\n",
        "    # Store cluster labels in the DataFrame\n",
        "    df1[f'Agglomerative_clusters_{linkage}'] = Y\n",
        "\n",
        "# Display the DataFrame\n",
        "print(df1.head())\n"
      ],
      "metadata": {
        "id": "hOhp5MrbsVV7"
      },
      "execution_count": null,
      "outputs": []
    },
    {
      "cell_type": "code",
      "source": [
        "#K Means Method\n",
        "#Elbow Method\n",
        "from sklearn.cluster import KMeans\n",
        "KMeans()\n",
        "\n",
        "clust = []\n",
        "for i in range(1, 11):\n",
        "    kmeans = KMeans(n_clusters=i,random_state=10)\n",
        "    kmeans.fit(PC_X)\n",
        "    clust.append(kmeans.inertia_)\n",
        "\n",
        "plt.plot(range(1,11),clust,color=\"blue\")\n",
        "plt.scatter(range(1, 11), clust,color=\"red\")\n",
        "plt.xlim()\n",
        "plt.title('Elbow Method')\n",
        "plt.xlabel('Number of clusters')\n",
        "plt.ylabel('inertial values')\n",
        "plt.show()"
      ],
      "metadata": {
        "id": "9bw1SwhJ_BDN"
      },
      "execution_count": null,
      "outputs": []
    },
    {
      "cell_type": "code",
      "source": [
        "#KMeans Cluster algorithm using K=4\n",
        "kmeans = KMeans(n_clusters=3,random_state=11)\n",
        "# Fitting with inputs\n",
        "Kmeans = kmeans.fit(PC_X)\n",
        "# Predicting the clusters\n",
        "cluster_labels = kmeans.predict(PC_X)\n",
        "cluster_centers = kmeans.cluster_centers_"
      ],
      "metadata": {
        "id": "G-1fzAZ__BBG"
      },
      "execution_count": null,
      "outputs": []
    },
    {
      "cell_type": "code",
      "source": [
        "# Create a scatterplot to visualize the K-Means clustering results\n",
        "plt.figure(figsize=(10, 6))\n",
        "plt.scatter(PC_X.iloc[:,0], PC_X.iloc[:,1], c=cluster_labels, cmap='viridis', marker='o', edgecolor='k')\n",
        "plt.title('K-Means Clustering')\n",
        "plt.xlabel('Feature 1')\n",
        "plt.ylabel('Feature 2')\n",
        "plt.legend()\n",
        "plt.show()"
      ],
      "metadata": {
        "id": "TTRWQKfVCkQL"
      },
      "execution_count": null,
      "outputs": []
    },
    {
      "cell_type": "code",
      "source": [
        "cluster_labels = pd.DataFrame(cluster_labels)\n",
        "cluster_labels.value_counts()\n",
        "df2['Kmeans_clusters'] = cluster_labels\n",
        "df2.head()"
      ],
      "metadata": {
        "id": "O6u6WlOkCkMw"
      },
      "execution_count": null,
      "outputs": []
    },
    {
      "cell_type": "code",
      "source": [
        "pca_result = pca.fit_transform(PC_X)\n",
        "# Create a scatter plot to visualize PCA scores colored by cluster labels\n",
        "plt.figure(figsize=(10, 6))\n",
        "scatter = plt.scatter(\n",
        "    pca_result[:, 0], pca_result[:, 1], c=cluster_labels, cmap='viridis', alpha=0.6\n",
        ")\n",
        "plt.xlabel('PCA Component 1')\n",
        "plt.ylabel('PCA Component 2')\n",
        "plt.title('PCA Scores Colored by Agglomerative Clustering Labels')\n",
        "plt.colorbar(scatter)\n",
        "plt.show()"
      ],
      "metadata": {
        "id": "8aHNr7kftMH4"
      },
      "execution_count": null,
      "outputs": []
    }
  ]
}