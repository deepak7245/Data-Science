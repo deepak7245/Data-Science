{
  "nbformat": 4,
  "nbformat_minor": 0,
  "metadata": {
    "colab": {
      "private_outputs": true,
      "provenance": [],
      "toc_visible": true
    },
    "kernelspec": {
      "name": "python3",
      "display_name": "Python 3"
    },
    "language_info": {
      "name": "python"
    }
  },
  "cells": [
    {
      "cell_type": "code",
      "execution_count": null,
      "metadata": {
        "id": "qEomc--P-3cd"
      },
      "outputs": [],
      "source": [
        "import numpy as np\n",
        "import pandas as pd\n",
        "import matplotlib.pyplot as plt\n",
        "import statsmodels.api as sms\n",
        "import statsmodels.api as sm\n",
        "%matplotlib inline\n",
        "import seaborn as sns\n",
        "from pandas.plotting import lag_plot\n",
        "from statsmodels.tsa.arima.model import ARIMA\n",
        "from statsmodels.tsa.statespace.sarimax import SARIMAX\n",
        "from statsmodels.tsa.stattools import adfuller\n",
        "from sklearn.metrics import mean_squared_error\n",
        "from statsmodels.tsa.seasonal import seasonal_decompose\n",
        "from statsmodels.graphics.tsaplots import plot_acf, plot_pacf\n"
      ]
    },
    {
      "cell_type": "code",
      "source": [
        "df = pd.read_excel('Airlines+Data.xlsx',index_col=0, parse_dates=['Month'])\n"
      ],
      "metadata": {
        "id": "FR1nFSr2py6e"
      },
      "execution_count": null,
      "outputs": []
    },
    {
      "cell_type": "code",
      "source": [
        "df.head()"
      ],
      "metadata": {
        "id": "UHBxZYrYqiRO"
      },
      "execution_count": null,
      "outputs": []
    },
    {
      "cell_type": "markdown",
      "source": [
        "#Exploartory data analysis"
      ],
      "metadata": {
        "id": "t3YqibEDo9q4"
      }
    },
    {
      "cell_type": "code",
      "source": [
        "df.isna().sum()"
      ],
      "metadata": {
        "id": "_jhg5DOZqiNx"
      },
      "execution_count": null,
      "outputs": []
    },
    {
      "cell_type": "code",
      "source": [
        "df.shape"
      ],
      "metadata": {
        "id": "HoNCuDiMFAXN"
      },
      "execution_count": null,
      "outputs": []
    },
    {
      "cell_type": "code",
      "source": [
        "plt.figure(figsize=(10,7))\n",
        "plt.plot(df)"
      ],
      "metadata": {
        "id": "2JSysiIRqiI-"
      },
      "execution_count": null,
      "outputs": []
    },
    {
      "cell_type": "code",
      "source": [
        "df.hist()"
      ],
      "metadata": {
        "id": "5jghSrV_qiFh"
      },
      "execution_count": null,
      "outputs": []
    },
    {
      "cell_type": "code",
      "source": [
        "#Autocorrelation Plot\n",
        "from statsmodels.graphics.tsaplots import plot_acf\n",
        "plt.figure(figsize=(20,5))\n",
        "plot_acf(df,lags=95)\n",
        "plt.show()"
      ],
      "metadata": {
        "id": "qy7WVW3-DJm7"
      },
      "execution_count": null,
      "outputs": []
    },
    {
      "cell_type": "code",
      "source": [
        "#PACF\n",
        "from statsmodels.graphics.tsaplots import plot_pacf\n",
        "plt.figure(figsize=(20,5))\n",
        "plot_pacf(df.Passengers,lags=45)\n",
        "plt.show()"
      ],
      "metadata": {
        "id": "lG6I5kEXR02K"
      },
      "execution_count": null,
      "outputs": []
    },
    {
      "cell_type": "code",
      "source": [
        "#Lag Plot\n",
        "plt.figure(figsize=(13,5))\n",
        "pd.plotting.lag_plot(df)"
      ],
      "metadata": {
        "id": "DX97Sg6CIa69"
      },
      "execution_count": null,
      "outputs": []
    },
    {
      "cell_type": "markdown",
      "source": [
        "#Upsampling\n"
      ],
      "metadata": {
        "id": "024VBIIrpOEj"
      }
    },
    {
      "cell_type": "code",
      "source": [
        "#Upsampling\n",
        "upsampled=df.resample('D').mean()\n",
        "upsampled.head()"
      ],
      "metadata": {
        "id": "VDl6IexVFQmX"
      },
      "execution_count": null,
      "outputs": []
    },
    {
      "cell_type": "code",
      "source": [
        "interpolated=upsampled.interpolate(method='linear')\n",
        "interpolated.head(10)"
      ],
      "metadata": {
        "id": "ionNZYRlISy2"
      },
      "execution_count": null,
      "outputs": []
    },
    {
      "cell_type": "code",
      "source": [
        "interpolated.plot()"
      ],
      "metadata": {
        "id": "7td1CeoVJcSB"
      },
      "execution_count": null,
      "outputs": []
    },
    {
      "cell_type": "markdown",
      "source": [
        "#Downsampling\n"
      ],
      "metadata": {
        "id": "6CD2qNVKpTyQ"
      }
    },
    {
      "cell_type": "code",
      "source": [
        "\n",
        "downsampled=df.resample('Q').mean()\n",
        "downsampled.head()"
      ],
      "metadata": {
        "id": "P0Xm3NENJq0H"
      },
      "execution_count": null,
      "outputs": []
    },
    {
      "cell_type": "code",
      "source": [
        "plt.plot(downsampled)"
      ],
      "metadata": {
        "id": "iG7D_cYQKQ-Z"
      },
      "execution_count": null,
      "outputs": []
    },
    {
      "cell_type": "code",
      "source": [
        "df.columns = df.columns.str.strip()\n",
        "df = df.reset_index()\n"
      ],
      "metadata": {
        "id": "VC2GZv8BMyKS"
      },
      "execution_count": null,
      "outputs": []
    },
    {
      "cell_type": "code",
      "source": [
        "df[\"month\"]=df['Month'].dt.strftime(\"%b\")\n",
        "df[\"year\"]=df['Month'].dt.strftime(\"%Y\")\n",
        "df['log_passengers']=np.log(df['Passengers'])\n",
        "df['t']=np.arange(1,97)\n",
        "df['t_square']=np.square(df['t'])\n",
        "df1=pd.get_dummies(df['month'])\n",
        "df=pd.concat([df,df1],axis=1)\n",
        "df.head()"
      ],
      "metadata": {
        "id": "dmCOVVN2Kfvc"
      },
      "execution_count": null,
      "outputs": []
    },
    {
      "cell_type": "code",
      "source": [
        "#Heatmap\n",
        "hm=pd.pivot_table(data=df,values=\"Passengers\",columns=\"month\",index='year')\n",
        "plt.figure(figsize=(15,7))\n",
        "sns.heatmap(hm,annot=True,fmt='g')"
      ],
      "metadata": {
        "id": "r-nBreB6Lt3n"
      },
      "execution_count": null,
      "outputs": []
    },
    {
      "cell_type": "code",
      "source": [
        "#Multiplicative Seasonality Decomposition\n",
        "\n",
        "decompose_ts_add = seasonal_decompose(df.Passengers,period=12, model='multiplicative')\n",
        "with plt.rc_context():\n",
        "    plt.rc(\"figure\", figsize=(14,10))\n",
        "    decompose_ts_add.plot()\n",
        "    plt.show()"
      ],
      "metadata": {
        "id": "mbSORpPiMCqb"
      },
      "execution_count": null,
      "outputs": []
    },
    {
      "cell_type": "markdown",
      "source": [
        "**Model building**\n"
      ],
      "metadata": {
        "id": "rawajb6xpyp-"
      }
    },
    {
      "cell_type": "code",
      "source": [
        "#Data Spliting\n",
        "Train = df.head(84)\n",
        "Test = df.tail(12)"
      ],
      "metadata": {
        "id": "1X6n_KV9SswM"
      },
      "execution_count": null,
      "outputs": []
    },
    {
      "cell_type": "code",
      "source": [
        "#Linear Model\n",
        "import statsmodels.formula.api as smf\n",
        "\n",
        "linear_model = smf.ols('Passengers~t',data=Train).fit()\n",
        "pred_linear =  pd.Series(linear_model.predict(pd.DataFrame(Test['t'])))\n",
        "rmse_linear = np.sqrt(np.mean((np.array(Test['Passengers'])-np.array(pred_linear))**2))\n",
        "rmse_linear"
      ],
      "metadata": {
        "id": "gKPJo-7xUgsG"
      },
      "execution_count": null,
      "outputs": []
    },
    {
      "cell_type": "code",
      "source": [
        "#Exponential\n",
        "Exp = smf.ols('log_passengers~t',data=Train).fit()\n",
        "pred_Exp = pd.Series(Exp.predict(pd.DataFrame(Test['t'])))\n",
        "rmse_Exp = np.sqrt(np.mean((np.array(Test['Passengers'])-np.array(np.exp(pred_Exp)))**2))\n",
        "rmse_Exp"
      ],
      "metadata": {
        "id": "vzSr82QNUphC"
      },
      "execution_count": null,
      "outputs": []
    },
    {
      "cell_type": "code",
      "source": [
        "#Quadratic\n",
        "Quad = smf.ols('Passengers~t+t_square',data=Train).fit()\n",
        "pred_Quad = pd.Series(Quad.predict(Test[[\"t\",\"t_square\"]]))\n",
        "rmse_Quad = np.sqrt(np.mean((np.array(Test['Passengers'])-np.array(pred_Quad))**2))\n",
        "rmse_Quad"
      ],
      "metadata": {
        "id": "8bXbjy6NUsOH"
      },
      "execution_count": null,
      "outputs": []
    },
    {
      "cell_type": "code",
      "source": [
        "#Additive seasonality\n",
        "add_sea = smf.ols('Passengers~Jan+Feb+Mar+Apr+May+Jun+Jul+Aug+Sep+Oct+Nov',data=Train).fit()\n",
        "pred_add_sea = pd.Series(add_sea.predict(Test[['Jan','Feb','Mar','Apr','May','Jun','Jul','Aug','Sep','Oct','Nov']]))\n",
        "rmse_add_sea = np.sqrt(np.mean((np.array(Test['Passengers'])-np.array(pred_add_sea))**2))\n",
        "rmse_add_sea"
      ],
      "metadata": {
        "id": "v3FZ0DoiUyqF"
      },
      "execution_count": null,
      "outputs": []
    },
    {
      "cell_type": "code",
      "source": [
        "#Additive Seasonality Quadratic\n",
        "add_sea_Quad = smf.ols('Passengers~t+t_square+Jan+Feb+Mar+Apr+May+Jun+Jul+Aug+Sep+Oct+Nov',data=Train).fit()\n",
        "pred_add_sea_quad = pd.Series(add_sea_Quad.predict(Test[['Jan','Feb','Mar','Apr','May','Jun','Jul','Aug','Sep','Oct','Nov','t','t_square']]))\n",
        "rmse_add_sea_quad = np.sqrt(np.mean((np.array(Test['Passengers'])-np.array(pred_add_sea_quad))**2))\n",
        "rmse_add_sea_quad"
      ],
      "metadata": {
        "id": "O3C-h0-uU6ft"
      },
      "execution_count": null,
      "outputs": []
    },
    {
      "cell_type": "code",
      "source": [
        "##Multiplicative Seasonality\n",
        "Mul_sea = smf.ols('log_passengers~Jan+Feb+Mar+Apr+May+Jun+Jul+Aug+Sep+Oct+Nov',data = Train).fit()\n",
        "pred_Mult_sea = pd.Series(Mul_sea.predict(Test))\n",
        "rmse_Mult_sea = np.sqrt(np.mean((np.array(Test['Passengers'])-np.array(np.exp(pred_Mult_sea)))**2))\n",
        "rmse_Mult_sea"
      ],
      "metadata": {
        "id": "6sRi4X-gU8mh"
      },
      "execution_count": null,
      "outputs": []
    },
    {
      "cell_type": "code",
      "source": [
        "#Multiplicative Additive Seasonality\n",
        "Mul_Add_sea = smf.ols('log_passengers~t+Jan+Feb+Mar+Apr+May+Jun+Jul+Aug+Sep+Oct+Nov',data = Train).fit()\n",
        "pred_Mult_add_sea = pd.Series(Mul_Add_sea.predict(Test))\n",
        "rmse_Mult_add_sea = np.sqrt(np.mean((np.array(Test['Passengers'])-np.array(np.exp(pred_Mult_add_sea)))**2))\n",
        "rmse_Mult_add_sea"
      ],
      "metadata": {
        "id": "8Z0bbF6TU-wO"
      },
      "execution_count": null,
      "outputs": []
    },
    {
      "cell_type": "code",
      "source": [
        "#Multiplicative Seasonality Quadratic\n",
        "mult_sea_Quad = smf.ols('log_passengers~t+t_square+Jan+Feb+Mar+Apr+May+Jun+Jul+Aug+Sep+Oct+Nov',data=Train).fit()\n",
        "pred_mult_sea_quad = pd.Series(mult_sea_Quad.predict(Test[['Jan','Feb','Mar','Apr','May','Jun','Jul','Aug','Sep','Oct','Nov','t','t_square']]))\n",
        "rmse_mult_sea_quad = np.sqrt(np.mean((np.array(Test['Passengers'])-np.array(pred_mult_sea_quad))**2))\n",
        "rmse_mult_sea_quad"
      ],
      "metadata": {
        "id": "UQ2xdeeGVJmT"
      },
      "execution_count": null,
      "outputs": []
    },
    {
      "cell_type": "code",
      "source": [
        "data = {\"MODEL\":pd.Series([\"rmse_linear\",\"rmse_Exp\",\"rmse_Quad\",\"rmse_add_sea\",\"rmse_add_sea_quad\",\"rmse_Mult_sea\",\"rmse_Mult_add_sea\"]),\"RMSE_Values\":pd.Series([rmse_linear,rmse_Exp,rmse_Quad,rmse_add_sea,rmse_add_sea_quad,rmse_Mult_sea,rmse_Mult_add_sea])}\n",
        "table_rmse=pd.DataFrame(data)\n",
        "table_rmse.sort_values(['RMSE_Values'])"
      ],
      "metadata": {
        "id": "bMLjGGtJVMSK"
      },
      "execution_count": null,
      "outputs": []
    },
    {
      "cell_type": "code",
      "source": [
        "\"\"\" Dickey Fuller Test for testing the data is stationary or not \"\"\"\n",
        "\n",
        "def adf_test(series):\n",
        "    result = adfuller(series)\n",
        "    print('ADF Statistics: {}'.format(result[0]))\n",
        "    print('p-value: {}'.format(result[1]))\n",
        "    if result[1] <= 0.05:\n",
        "       print(\"Strong evidence against the null hypothesis,reject the null hypothesis.Data has no unit root and is stationary\")\n",
        "    else:\n",
        "       print(\"Weak evidence against null hypothesis,time series has unit root , indicating it is non -statinary\")\n",
        "\n",
        "\n",
        "adf_test(df['Passengers'])\n",
        "\n"
      ],
      "metadata": {
        "id": "u0GU0NRSWt1K"
      },
      "execution_count": null,
      "outputs": []
    },
    {
      "cell_type": "code",
      "source": [
        "\n",
        "\"\"\" using techniques Differencing   \"\"\"\n",
        "\n",
        "df['Passengers First Difference']=df['Passengers']-df['Passengers'].shift(1)\n",
        "df.head()\n",
        "\n",
        "adf_test(df['Passengers First Difference'].dropna())\n",
        "# data is still not stationary.\n"
      ],
      "metadata": {
        "id": "HtPC_JLl0fNs"
      },
      "execution_count": null,
      "outputs": []
    },
    {
      "cell_type": "code",
      "source": [
        "\n",
        "\"\"\" using second differencing technique \"\"\"\n",
        "\n",
        "df['Passengers Second Difference'] = df['Passengers First Difference']-df['Passengers First Difference'].shift(1)\n",
        "\n",
        "adf_test(df['Passengers Second Difference'].dropna())\n",
        "\n"
      ],
      "metadata": {
        "id": "iqB7Edhx0zc-"
      },
      "execution_count": null,
      "outputs": []
    },
    {
      "cell_type": "code",
      "source": [
        "\n",
        "\"\"\" we are checking for over a year now  ( we are looking for seasonal differences now and sometimes ARIMA doesnot work well for seasonal data but SARIMAX Does )\"\"\"\n"
      ],
      "metadata": {
        "id": "a_KVBP8e03QL"
      },
      "execution_count": null,
      "outputs": []
    },
    {
      "cell_type": "code",
      "source": [
        "  df['Passengers 12 Difference']=df['Passengers']-df['Passengers'].shift(12)\n",
        "adf_test(df['Passengers 12 Difference'].dropna())\n",
        "\n"
      ],
      "metadata": {
        "id": "jG05sTVk1S-L"
      },
      "execution_count": null,
      "outputs": []
    },
    {
      "cell_type": "code",
      "source": [
        "\"\"\"   Fit the ARIMA model  \"\"\"\n",
        "model = ARIMA(Train['Passengers'], order=(11, 2, 2))\n",
        "model_fit = model.fit()\n",
        "\n",
        "# Make predictions on the testing set\n",
        "predictions = model_fit.forecast(steps=len(Test))\n",
        "\n",
        "predictions.plot()\n"
      ],
      "metadata": {
        "id": "CfDaY0Kf1S6p"
      },
      "execution_count": null,
      "outputs": []
    },
    {
      "cell_type": "code",
      "source": [
        "#predictions\n",
        "\n",
        "# Check the shape of the input arrays\n",
        "if Test['Passengers'].shape[0] > 1 and predictions.shape[0] > 1:\n",
        "    # Calculate the mean squared error\n",
        "    mse = mean_squared_error(Test['Passengers'], predictions)\n",
        "\n",
        "    # Calculate the root mean squared error\n",
        "    rmse = np.sqrt(mse)\n",
        "    print('RMSE:', rmse)\n",
        "else:\n",
        "    print('Error: Input arrays have only one element')\n",
        "\n"
      ],
      "metadata": {
        "id": "99yvxOKH1Sy5"
      },
      "execution_count": null,
      "outputs": []
    },
    {
      "cell_type": "code",
      "source": [
        "\n",
        "model_fit.summary()\n",
        "Test['predictions'] = predictions\n",
        "\n",
        "Test[['Passengers','predictions']].plot()\n",
        "\n"
      ],
      "metadata": {
        "id": "OlN6Sd5u1SwK"
      },
      "execution_count": null,
      "outputs": []
    },
    {
      "cell_type": "code",
      "source": [
        "\"\"\"  SARIMAX   \"\"\"\n",
        "# Fit SARIMA model\n",
        "model_SARIMA = SARIMAX(Train['Passengers'], order=(11, 2, 2), seasonal_order=(0, 0, 0, 12))\n",
        "model_SARIMA_fit = model_SARIMA.fit()\n",
        "\n",
        "# Make predictions on the testing set\n",
        "predictions_SARIMA = model_SARIMA_fit.forecast(steps=len(Test))\n",
        "\n",
        "# Check the shape of the input arrays\n",
        "if Test['Passengers'].shape[0] > 1 and predictions_SARIMA.shape[0] > 1:\n",
        "    # Calculate the mean squared error\n",
        "    mse = mean_squared_error(Test['Passengers'], predictions_SARIMA)"
      ],
      "metadata": {
        "id": "d7wjIJ8L8KQF"
      },
      "execution_count": null,
      "outputs": []
    },
    {
      "cell_type": "code",
      "source": [
        "# Calculate the root mean squared error\n",
        "rmse = np.sqrt(mse)\n",
        "print('RMSE:', rmse)\n"
      ],
      "metadata": {
        "id": "d8uUbDEG1StN"
      },
      "execution_count": null,
      "outputs": []
    },
    {
      "cell_type": "code",
      "source": [
        "# Display model summary\n",
        "model_SARIMA_fit.summary()\n",
        "\n",
        "# Add predictions to test_data\n",
        "Test['predictions_SARIMA'] = predictions_SARIMA\n",
        "# Plot actual vs predicted values\n",
        "Test[['Passengers', 'predictions_SARIMA']].plot()\n",
        "plt.show()\n",
        "\n"
      ],
      "metadata": {
        "id": "IYj57kgX1SqQ"
      },
      "execution_count": null,
      "outputs": []
    },
    {
      "cell_type": "code",
      "source": [
        "acf12 = plot_acf(df['Passengers 12 Difference'].dropna())\n",
        "pacf12 = plot_pacf(df['Passengers 12 Difference'].dropna())\n"
      ],
      "metadata": {
        "id": "O2ZRBWN5BgJ9"
      },
      "execution_count": null,
      "outputs": []
    },
    {
      "cell_type": "code",
      "source": [
        "\"\"\" considering the data to be seasonal checking with the results for arima and sarimax models \"\"\"\n",
        "\n",
        "from statsmodels.tsa.statespace.sarimax import SARIMAX\n",
        "import matplotlib.pyplot as plt\n",
        "\n",
        "# Fit ARIMA model\n",
        "model_ARIMA = ARIMA(Train['Passengers'], order=(3, 0, 5))\n",
        "model_ARIMA_fit = model_ARIMA.fit()\n",
        "predictions_ARIMA = model_ARIMA_fit.forecast(steps=len(Test))\n",
        "\n",
        "# Fit SARIMA model\n",
        "model_SARIMA = SARIMAX(Train['Passengers'], order=(3, 0, 5), seasonal_order=(0, 1, 0, 12))\n",
        "model_SARIMA_fit = model_SARIMA.fit()\n",
        "predictions_SARIMA = model_SARIMA_fit.forecast(steps=len(Test))\n",
        "\n",
        "# Calculate RMSE for ARIMA\n",
        "mse_ARIMA = mean_squared_error(Test['Passengers'], predictions_ARIMA)\n",
        "rmse_ARIMA = np.sqrt(mse_ARIMA)\n",
        "print('RMSE (ARIMA):', rmse_ARIMA)\n",
        "\n",
        "# Calculate RMSE for SARIMA\n",
        "mse_SARIMA = mean_squared_error(Test['Passengers'], predictions_SARIMA)\n",
        "rmse_SARIMA = np.sqrt(mse_SARIMA)\n",
        "print('RMSE (SARIMA):', rmse_SARIMA)\n"
      ],
      "metadata": {
        "id": "pva1yab21SnF"
      },
      "execution_count": null,
      "outputs": []
    },
    {
      "cell_type": "code",
      "source": [
        "\n",
        "# Plot actual vs predicted values for both models\n",
        "plt.figure(figsize=(10, 6))\n",
        "plt.plot(Test['Passengers'], label='Actual')\n",
        "plt.plot(predictions_ARIMA, label='ARIMA Predictions')\n",
        "plt.plot(predictions_SARIMA, label='SARIMA Predictions')\n",
        "plt.legend()\n",
        "plt.title('Actual vs Predicted Passengers')\n",
        "plt.xlabel('Month')\n",
        "plt.ylabel('Passengers')\n",
        "plt.show()\n"
      ],
      "metadata": {
        "id": "rB7ZYBOa8YR3"
      },
      "execution_count": null,
      "outputs": []
    },
    {
      "cell_type": "code",
      "source": [
        "#Inference:\n",
        "#SARIMA gives better results"
      ],
      "metadata": {
        "id": "9dXPVsij8YOQ"
      },
      "execution_count": null,
      "outputs": []
    },
    {
      "cell_type": "code",
      "source": [
        "#Mean Absolute error\n",
        "\n",
        "def MAPE(pred,org):\n",
        "  temp = np.abs((pred-org)/org)*100\n",
        "  return np.mean(temp)"
      ],
      "metadata": {
        "id": "c2Z3r6Wwu6cX"
      },
      "execution_count": null,
      "outputs": []
    },
    {
      "cell_type": "code",
      "source": [
        "from statsmodels.tsa.holtwinters import SimpleExpSmoothing\n",
        "\n",
        "\n",
        "ses_model = SimpleExpSmoothing(Train[\"Passengers\"]).fit(smoothing_level=0.2)\n",
        "pred_ses = ses_model.predict(start=Test.index[0], end=Test.index[-1])\n",
        "\n",
        "MAPE(pred_ses, Test.Passengers)\n"
      ],
      "metadata": {
        "id": "7KqrZdTOu6he"
      },
      "execution_count": null,
      "outputs": []
    },
    {
      "cell_type": "code",
      "source": [
        "# performing holt method\n",
        "from statsmodels.tsa.holtwinters import ExponentialSmoothing\n",
        "\n",
        "holt_model = ExponentialSmoothing(Train[\"Passengers\"], trend='add').fit()\n",
        "pred_holt = holt_model.predict(start=Test.index[0], end=Test.index[-1])\n",
        "\n",
        "MAPE(pred_holt, Test.Passengers)\n"
      ],
      "metadata": {
        "id": "sRuAZmL3u6j7"
      },
      "execution_count": null,
      "outputs": []
    },
    {
      "cell_type": "code",
      "source": [
        "#perform holt winter exponentail smoothing with additive trend and additive seaonality\n",
        "\n",
        "\n",
        "from statsmodels.tsa.holtwinters import ExponentialSmoothing\n",
        "\n",
        "holt_winter_model = ExponentialSmoothing(Train[\"Passengers\"], trend='add', seasonal='add', seasonal_periods=12).fit()\n",
        "pred_holt_winter = holt_winter_model.predict(start=Test.index[0], end=Test.index[-1])\n",
        "\n",
        "MAPE(pred_holt_winter, Test.Passengers)\n"
      ],
      "metadata": {
        "id": "2A00-6Pqu6md"
      },
      "execution_count": null,
      "outputs": []
    },
    {
      "cell_type": "code",
      "source": [
        "#performing holt winter exponentail smoothing with additive trend and multiplicative seaonality\n",
        "\n",
        "\n",
        "from statsmodels.tsa.holtwinters import ExponentialSmoothing\n",
        "\n",
        "holt_winter_model = ExponentialSmoothing(Train[\"Passengers\"], trend='add', seasonal='mul', seasonal_periods=12).fit()\n",
        "pred_holt_winter = holt_winter_model.predict(start=Test.index[0], end=Test.index[-1])\n",
        "\n",
        "MAPE(pred_holt_winter, Test.Passengers)\n"
      ],
      "metadata": {
        "id": "z7CuSKBJu6o4"
      },
      "execution_count": null,
      "outputs": []
    },
    {
      "cell_type": "code",
      "source": [
        "#final model by combining Train and test\n",
        "hwe_model_add_add = ExponentialSmoothing(df.Passengers,seasonal='mul', seasonal_periods=12).fit()\n",
        "#forecasting for next 10 time periods\n",
        "hwe_model_add_add.forecast(10)"
      ],
      "metadata": {
        "id": "EQdyZoWCu6rH"
      },
      "execution_count": null,
      "outputs": []
    },
    {
      "cell_type": "code",
      "source": [],
      "metadata": {
        "id": "JWB75g5au6tt"
      },
      "execution_count": null,
      "outputs": []
    },
    {
      "cell_type": "code",
      "source": [],
      "metadata": {
        "id": "BKjooL3pu6wY"
      },
      "execution_count": null,
      "outputs": []
    },
    {
      "cell_type": "code",
      "source": [],
      "metadata": {
        "id": "rEskk2Fnu6y5"
      },
      "execution_count": null,
      "outputs": []
    },
    {
      "cell_type": "code",
      "source": [],
      "metadata": {
        "id": "XJACMu1Hu61C"
      },
      "execution_count": null,
      "outputs": []
    },
    {
      "cell_type": "code",
      "source": [],
      "metadata": {
        "id": "WExHKvHZu63O"
      },
      "execution_count": null,
      "outputs": []
    },
    {
      "cell_type": "code",
      "source": [],
      "metadata": {
        "id": "hlr4aZp1u66h"
      },
      "execution_count": null,
      "outputs": []
    }
  ]
}